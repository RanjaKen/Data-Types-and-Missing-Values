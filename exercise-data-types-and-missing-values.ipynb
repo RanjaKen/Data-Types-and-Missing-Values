{
 "cells": [
  {
   "cell_type": "markdown",
   "id": "1c056b21",
   "metadata": {
    "papermill": {
     "duration": 0.006883,
     "end_time": "2024-09-23T15:29:27.828774",
     "exception": false,
     "start_time": "2024-09-23T15:29:27.821891",
     "status": "completed"
    },
    "tags": []
   },
   "source": [
    "**This notebook is an exercise in the [Pandas](https://www.kaggle.com/learn/pandas) course.  You can reference the tutorial at [this link](https://www.kaggle.com/residentmario/data-types-and-missing-values).**\n",
    "\n",
    "---\n"
   ]
  },
  {
   "cell_type": "markdown",
   "id": "973a5d7c",
   "metadata": {
    "papermill": {
     "duration": 0.006005,
     "end_time": "2024-09-23T15:29:27.841595",
     "exception": false,
     "start_time": "2024-09-23T15:29:27.835590",
     "status": "completed"
    },
    "tags": []
   },
   "source": [
    "# Introduction\n",
    "\n",
    "Run the following cell to load your data and some utility functions."
   ]
  },
  {
   "cell_type": "code",
   "execution_count": 1,
   "id": "a13d087e",
   "metadata": {
    "execution": {
     "iopub.execute_input": "2024-09-23T15:29:27.856877Z",
     "iopub.status.busy": "2024-09-23T15:29:27.856284Z",
     "iopub.status.idle": "2024-09-23T15:29:31.631368Z",
     "shell.execute_reply": "2024-09-23T15:29:31.629922Z"
    },
    "papermill": {
     "duration": 3.78572,
     "end_time": "2024-09-23T15:29:31.634068",
     "exception": false,
     "start_time": "2024-09-23T15:29:27.848348",
     "status": "completed"
    },
    "tags": []
   },
   "outputs": [
    {
     "name": "stdout",
     "output_type": "stream",
     "text": [
      "Setup complete.\n"
     ]
    }
   ],
   "source": [
    "import pandas as pd\n",
    "\n",
    "reviews = pd.read_csv(\"../input/wine-reviews/winemag-data-130k-v2.csv\", index_col=0)\n",
    "\n",
    "from learntools.core import binder; binder.bind(globals())\n",
    "from learntools.pandas.data_types_and_missing_data import *\n",
    "print(\"Setup complete.\")"
   ]
  },
  {
   "cell_type": "markdown",
   "id": "0f2ee5f0",
   "metadata": {
    "papermill": {
     "duration": 0.006141,
     "end_time": "2024-09-23T15:29:31.646640",
     "exception": false,
     "start_time": "2024-09-23T15:29:31.640499",
     "status": "completed"
    },
    "tags": []
   },
   "source": [
    "# Exercises"
   ]
  },
  {
   "cell_type": "markdown",
   "id": "4d11741a",
   "metadata": {
    "papermill": {
     "duration": 0.006015,
     "end_time": "2024-09-23T15:29:31.658986",
     "exception": false,
     "start_time": "2024-09-23T15:29:31.652971",
     "status": "completed"
    },
    "tags": []
   },
   "source": [
    "## 1. \n",
    "What is the data type of the `points` column in the dataset?"
   ]
  },
  {
   "cell_type": "code",
   "execution_count": 2,
   "id": "9e4b7aa4",
   "metadata": {
    "execution": {
     "iopub.execute_input": "2024-09-23T15:29:31.673896Z",
     "iopub.status.busy": "2024-09-23T15:29:31.673419Z",
     "iopub.status.idle": "2024-09-23T15:29:31.685381Z",
     "shell.execute_reply": "2024-09-23T15:29:31.684115Z"
    },
    "papermill": {
     "duration": 0.022738,
     "end_time": "2024-09-23T15:29:31.687919",
     "exception": false,
     "start_time": "2024-09-23T15:29:31.665181",
     "status": "completed"
    },
    "tags": []
   },
   "outputs": [
    {
     "data": {
      "application/javascript": [
       "parent.postMessage({\"jupyterEvent\": \"custom.exercise_interaction\", \"data\": {\"outcomeType\": 1, \"valueTowardsCompletion\": 0.25, \"interactionType\": 1, \"questionType\": 1, \"questionId\": \"1_PointsDtype\", \"learnToolsVersion\": \"0.3.4\", \"failureMessage\": \"\", \"exceptionClass\": \"\", \"trace\": \"\"}}, \"*\")"
      ],
      "text/plain": [
       "<IPython.core.display.Javascript object>"
      ]
     },
     "metadata": {},
     "output_type": "display_data"
    },
    {
     "data": {
      "text/markdown": [
       "<span style=\"color:#33cc33\">Correct</span>"
      ],
      "text/plain": [
       "Correct"
      ]
     },
     "metadata": {},
     "output_type": "display_data"
    }
   ],
   "source": [
    "# Your code here\n",
    "dtype = reviews.points.dtype\n",
    "# Check your answer\n",
    "q1.check()"
   ]
  },
  {
   "cell_type": "code",
   "execution_count": 3,
   "id": "c280ede9",
   "metadata": {
    "execution": {
     "iopub.execute_input": "2024-09-23T15:29:31.704314Z",
     "iopub.status.busy": "2024-09-23T15:29:31.703194Z",
     "iopub.status.idle": "2024-09-23T15:29:31.708322Z",
     "shell.execute_reply": "2024-09-23T15:29:31.707187Z"
    },
    "papermill": {
     "duration": 0.015812,
     "end_time": "2024-09-23T15:29:31.710824",
     "exception": false,
     "start_time": "2024-09-23T15:29:31.695012",
     "status": "completed"
    },
    "tags": []
   },
   "outputs": [],
   "source": [
    "#q1.hint()\n",
    "#q1.solution()"
   ]
  },
  {
   "cell_type": "markdown",
   "id": "48ca5528",
   "metadata": {
    "papermill": {
     "duration": 0.006482,
     "end_time": "2024-09-23T15:29:31.724344",
     "exception": false,
     "start_time": "2024-09-23T15:29:31.717862",
     "status": "completed"
    },
    "tags": []
   },
   "source": [
    "## 2. \n",
    "Create a Series from entries in the `points` column, but convert the entries to strings. Hint: strings are `str` in native Python."
   ]
  },
  {
   "cell_type": "code",
   "execution_count": 4,
   "id": "b5ab45f8",
   "metadata": {
    "execution": {
     "iopub.execute_input": "2024-09-23T15:29:31.739439Z",
     "iopub.status.busy": "2024-09-23T15:29:31.739003Z",
     "iopub.status.idle": "2024-09-23T15:29:31.814886Z",
     "shell.execute_reply": "2024-09-23T15:29:31.812953Z"
    },
    "papermill": {
     "duration": 0.08856,
     "end_time": "2024-09-23T15:29:31.819581",
     "exception": false,
     "start_time": "2024-09-23T15:29:31.731021",
     "status": "completed"
    },
    "tags": []
   },
   "outputs": [
    {
     "data": {
      "application/javascript": [
       "parent.postMessage({\"jupyterEvent\": \"custom.exercise_interaction\", \"data\": {\"outcomeType\": 1, \"valueTowardsCompletion\": 0.25, \"interactionType\": 1, \"questionType\": 1, \"questionId\": \"2_StrPoints\", \"learnToolsVersion\": \"0.3.4\", \"failureMessage\": \"\", \"exceptionClass\": \"\", \"trace\": \"\"}}, \"*\")"
      ],
      "text/plain": [
       "<IPython.core.display.Javascript object>"
      ]
     },
     "metadata": {},
     "output_type": "display_data"
    },
    {
     "data": {
      "text/markdown": [
       "<span style=\"color:#33cc33\">Correct</span>"
      ],
      "text/plain": [
       "Correct"
      ]
     },
     "metadata": {},
     "output_type": "display_data"
    }
   ],
   "source": [
    "point_strings = reviews.points.astype('str')\n",
    "\n",
    "# Check your answer\n",
    "q2.check()"
   ]
  },
  {
   "cell_type": "code",
   "execution_count": 5,
   "id": "66c35d29",
   "metadata": {
    "execution": {
     "iopub.execute_input": "2024-09-23T15:29:31.836220Z",
     "iopub.status.busy": "2024-09-23T15:29:31.835716Z",
     "iopub.status.idle": "2024-09-23T15:29:31.841002Z",
     "shell.execute_reply": "2024-09-23T15:29:31.839650Z"
    },
    "papermill": {
     "duration": 0.016565,
     "end_time": "2024-09-23T15:29:31.843636",
     "exception": false,
     "start_time": "2024-09-23T15:29:31.827071",
     "status": "completed"
    },
    "tags": []
   },
   "outputs": [],
   "source": [
    "#q2.hint()\n",
    "#q2.solution()"
   ]
  },
  {
   "cell_type": "markdown",
   "id": "bb0242b7",
   "metadata": {
    "papermill": {
     "duration": 0.006843,
     "end_time": "2024-09-23T15:29:31.857729",
     "exception": false,
     "start_time": "2024-09-23T15:29:31.850886",
     "status": "completed"
    },
    "tags": []
   },
   "source": [
    "## 3.\n",
    "Sometimes the price column is null. How many reviews in the dataset are missing a price?"
   ]
  },
  {
   "cell_type": "code",
   "execution_count": 6,
   "id": "7702c5fc",
   "metadata": {
    "execution": {
     "iopub.execute_input": "2024-09-23T15:29:31.873787Z",
     "iopub.status.busy": "2024-09-23T15:29:31.873329Z",
     "iopub.status.idle": "2024-09-23T15:29:31.885544Z",
     "shell.execute_reply": "2024-09-23T15:29:31.884307Z"
    },
    "papermill": {
     "duration": 0.023539,
     "end_time": "2024-09-23T15:29:31.888283",
     "exception": false,
     "start_time": "2024-09-23T15:29:31.864744",
     "status": "completed"
    },
    "tags": []
   },
   "outputs": [
    {
     "data": {
      "application/javascript": [
       "parent.postMessage({\"jupyterEvent\": \"custom.exercise_interaction\", \"data\": {\"outcomeType\": 1, \"valueTowardsCompletion\": 0.25, \"interactionType\": 1, \"questionType\": 1, \"questionId\": \"3_CountMissingPrices\", \"learnToolsVersion\": \"0.3.4\", \"failureMessage\": \"\", \"exceptionClass\": \"\", \"trace\": \"\"}}, \"*\")"
      ],
      "text/plain": [
       "<IPython.core.display.Javascript object>"
      ]
     },
     "metadata": {},
     "output_type": "display_data"
    },
    {
     "data": {
      "text/markdown": [
       "<span style=\"color:#33cc33\">Correct</span>"
      ],
      "text/plain": [
       "Correct"
      ]
     },
     "metadata": {},
     "output_type": "display_data"
    }
   ],
   "source": [
    "n_missing_prices = pd.isnull(reviews.price).sum()\n",
    "\n",
    "# Check your answer\n",
    "q3.check()"
   ]
  },
  {
   "cell_type": "code",
   "execution_count": 7,
   "id": "61bd2a69",
   "metadata": {
    "execution": {
     "iopub.execute_input": "2024-09-23T15:29:31.906046Z",
     "iopub.status.busy": "2024-09-23T15:29:31.905578Z",
     "iopub.status.idle": "2024-09-23T15:29:31.911380Z",
     "shell.execute_reply": "2024-09-23T15:29:31.910047Z"
    },
    "papermill": {
     "duration": 0.018395,
     "end_time": "2024-09-23T15:29:31.914120",
     "exception": false,
     "start_time": "2024-09-23T15:29:31.895725",
     "status": "completed"
    },
    "tags": []
   },
   "outputs": [],
   "source": [
    "#q3.hint()\n",
    "#q3.solution()"
   ]
  },
  {
   "cell_type": "markdown",
   "id": "acaef96b",
   "metadata": {
    "papermill": {
     "duration": 0.007188,
     "end_time": "2024-09-23T15:29:31.929248",
     "exception": false,
     "start_time": "2024-09-23T15:29:31.922060",
     "status": "completed"
    },
    "tags": []
   },
   "source": [
    "## 4.\n",
    "What are the most common wine-producing regions? Create a Series counting the number of times each value occurs in the `region_1` field. This field is often missing data, so replace missing values with `Unknown`. Sort in descending order.  Your output should look something like this:\n",
    "\n",
    "```\n",
    "Unknown                    21247\n",
    "Napa Valley                 4480\n",
    "                           ...  \n",
    "Bardolino Superiore            1\n",
    "Primitivo del Tarantino        1\n",
    "Name: region_1, Length: 1230, dtype: int64\n",
    "```"
   ]
  },
  {
   "cell_type": "code",
   "execution_count": 8,
   "id": "426f4e8e",
   "metadata": {
    "execution": {
     "iopub.execute_input": "2024-09-23T15:29:31.946998Z",
     "iopub.status.busy": "2024-09-23T15:29:31.946423Z",
     "iopub.status.idle": "2024-09-23T15:29:32.039533Z",
     "shell.execute_reply": "2024-09-23T15:29:32.038268Z"
    },
    "papermill": {
     "duration": 0.105558,
     "end_time": "2024-09-23T15:29:32.042150",
     "exception": false,
     "start_time": "2024-09-23T15:29:31.936592",
     "status": "completed"
    },
    "tags": []
   },
   "outputs": [
    {
     "data": {
      "application/javascript": [
       "parent.postMessage({\"jupyterEvent\": \"custom.exercise_interaction\", \"data\": {\"outcomeType\": 1, \"valueTowardsCompletion\": 0.25, \"interactionType\": 1, \"questionType\": 2, \"questionId\": \"4_ReviewsPerRegion\", \"learnToolsVersion\": \"0.3.4\", \"failureMessage\": \"\", \"exceptionClass\": \"\", \"trace\": \"\"}}, \"*\")"
      ],
      "text/plain": [
       "<IPython.core.display.Javascript object>"
      ]
     },
     "metadata": {},
     "output_type": "display_data"
    },
    {
     "data": {
      "text/markdown": [
       "<span style=\"color:#33cc33\">Correct</span>"
      ],
      "text/plain": [
       "Correct"
      ]
     },
     "metadata": {},
     "output_type": "display_data"
    }
   ],
   "source": [
    "reviews_per_region = reviews.region_1.fillna('Unknown').value_counts().sort_values(ascending=False)\n",
    "\n",
    "# Check your answer\n",
    "q4.check()"
   ]
  },
  {
   "cell_type": "code",
   "execution_count": 9,
   "id": "e5a97a81",
   "metadata": {
    "execution": {
     "iopub.execute_input": "2024-09-23T15:29:32.059963Z",
     "iopub.status.busy": "2024-09-23T15:29:32.059521Z",
     "iopub.status.idle": "2024-09-23T15:29:32.064861Z",
     "shell.execute_reply": "2024-09-23T15:29:32.063655Z"
    },
    "papermill": {
     "duration": 0.017074,
     "end_time": "2024-09-23T15:29:32.067339",
     "exception": false,
     "start_time": "2024-09-23T15:29:32.050265",
     "status": "completed"
    },
    "tags": []
   },
   "outputs": [],
   "source": [
    "#q4.hint()\n",
    "#q4.solution()"
   ]
  },
  {
   "cell_type": "markdown",
   "id": "ee9d6e9c",
   "metadata": {
    "papermill": {
     "duration": 0.007888,
     "end_time": "2024-09-23T15:29:32.083413",
     "exception": false,
     "start_time": "2024-09-23T15:29:32.075525",
     "status": "completed"
    },
    "tags": []
   },
   "source": [
    "# Keep going\n",
    "\n",
    "Move on to **[renaming and combining](https://www.kaggle.com/residentmario/renaming-and-combining)**."
   ]
  },
  {
   "cell_type": "markdown",
   "id": "ff0793f7",
   "metadata": {
    "papermill": {
     "duration": 0.007804,
     "end_time": "2024-09-23T15:29:32.099465",
     "exception": false,
     "start_time": "2024-09-23T15:29:32.091661",
     "status": "completed"
    },
    "tags": []
   },
   "source": [
    "---\n",
    "\n",
    "\n",
    "\n",
    "\n",
    "*Have questions or comments? Visit the [course discussion forum](https://www.kaggle.com/learn/pandas/discussion) to chat with other learners.*"
   ]
  }
 ],
 "metadata": {
  "kaggle": {
   "accelerator": "none",
   "dataSources": [
    {
     "datasetId": 655,
     "sourceId": 1252,
     "sourceType": "datasetVersion"
    },
    {
     "datasetId": 2321,
     "sourceId": 3919,
     "sourceType": "datasetVersion"
    },
    {
     "datasetId": 2894,
     "sourceId": 4877,
     "sourceType": "datasetVersion"
    },
    {
     "datasetId": 3491,
     "sourceId": 5624,
     "sourceType": "datasetVersion"
    },
    {
     "datasetId": 1442,
     "sourceId": 8172,
     "sourceType": "datasetVersion"
    },
    {
     "datasetId": 9366,
     "sourceId": 13206,
     "sourceType": "datasetVersion"
    },
    {
     "datasetId": 179555,
     "sourceId": 403916,
     "sourceType": "datasetVersion"
    },
    {
     "datasetId": 4549,
     "sourceId": 466349,
     "sourceType": "datasetVersion"
    },
    {
     "datasetId": 2478,
     "sourceId": 1151655,
     "sourceType": "datasetVersion"
    },
    {
     "datasetId": 10128,
     "sourceId": 5438389,
     "sourceType": "datasetVersion"
    }
   ],
   "isGpuEnabled": false,
   "isInternetEnabled": false,
   "language": "python",
   "sourceType": "notebook"
  },
  "kernelspec": {
   "display_name": "Python 3",
   "language": "python",
   "name": "python3"
  },
  "language_info": {
   "codemirror_mode": {
    "name": "ipython",
    "version": 3
   },
   "file_extension": ".py",
   "mimetype": "text/x-python",
   "name": "python",
   "nbconvert_exporter": "python",
   "pygments_lexer": "ipython3",
   "version": "3.10.14"
  },
  "papermill": {
   "default_parameters": {},
   "duration": 8.213343,
   "end_time": "2024-09-23T15:29:32.730080",
   "environment_variables": {},
   "exception": null,
   "input_path": "__notebook__.ipynb",
   "output_path": "__notebook__.ipynb",
   "parameters": {},
   "start_time": "2024-09-23T15:29:24.516737",
   "version": "2.6.0"
  }
 },
 "nbformat": 4,
 "nbformat_minor": 5
}
